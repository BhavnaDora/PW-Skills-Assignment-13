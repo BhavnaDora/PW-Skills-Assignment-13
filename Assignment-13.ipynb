{
 "cells": [
  {
   "cell_type": "markdown",
   "id": "e5d76c1d-1803-4ed7-afb5-542b59f0c13c",
   "metadata": {},
   "source": [
    "#### (1)-\n",
    "##### Thread is a sequence of instructions that can be exceuted independently of other code. Threads are subset of process( an instance of computer program that is being executed). Multithreading is the ability of processor to execute multiple threads concurrently within a single process.\n",
    "##### Multithreading is used to increase the performance of a program using multiple cores. It can handle multiple requests from the user, for example we don't have to call a function again and again with different arguments, instead we can pass all these arguments using multithreading.\n",
    "##### threading module is used to handle threads in python."
   ]
  },
  {
   "cell_type": "markdown",
   "id": "a11ea0e7-fccc-4ec9-a481-5e584ceb3c6b",
   "metadata": {},
   "source": [
    "#### (2)-\n",
    "##### threading module is used for creating, managing and controlling threads. threading module provides several functions/methods to implement multithreading easily.\n",
    "##### activeCount()- it returns the no. of thread objects that are active\n",
    "##### currentThread()- it returns the no. of thread objects in the caller's thread control\n",
    "##### enumerate()- it returns the list of thread objects that are currently active"
   ]
  },
  {
   "cell_type": "markdown",
   "id": "55b0c646-b857-4ff3-8611-b261a6e5603a",
   "metadata": {},
   "source": [
    "#### (3)-\n",
    "##### run()- the run() method is the entry point for a thread. It calls the method expressed as the target argument in the Thread object along with the positional and keyword arguments\n",
    "##### start()- it starts the thread. It calls the run method. It must be called at most once per thread object. If it is called more than once on the same thread object it raises error. \n",
    "##### join()- join() method waits for the threads to terminate. It blocks the calling thread until the thread whose join method is called terminates.\n",
    "##### isAlive()- isAlive() method checks whether a thread is still exceuting"
   ]
  },
  {
   "cell_type": "code",
   "execution_count": 58,
   "id": "53c968fa-02ad-4554-82aa-f65b9730825e",
   "metadata": {},
   "outputs": [],
   "source": [
    "import threading\n",
    "def squares(num):\n",
    "    print(num**2)\n",
    "    \n",
    "def cubes(num):\n",
    "    print(num**3)\n",
    "    \n",
    "thread1= [threading.Thread(target=squares, args= (i,)) for i in range(1,5)]\n",
    "thread2= [threading.Thread(target= cubes, args= (i,)) for i in range(1,5)]"
   ]
  },
  {
   "cell_type": "code",
   "execution_count": 59,
   "id": "eb9c6c8d-33c2-47ff-adf7-e4216336b77d",
   "metadata": {},
   "outputs": [
    {
     "data": {
      "text/plain": [
       "[<Thread(Thread-83 (squares), initial)>,\n",
       " <Thread(Thread-84 (squares), initial)>,\n",
       " <Thread(Thread-85 (squares), initial)>,\n",
       " <Thread(Thread-86 (squares), initial)>]"
      ]
     },
     "execution_count": 59,
     "metadata": {},
     "output_type": "execute_result"
    }
   ],
   "source": [
    "thread1"
   ]
  },
  {
   "cell_type": "code",
   "execution_count": 60,
   "id": "b5348825-622d-457f-a448-7e109aadb5c2",
   "metadata": {},
   "outputs": [
    {
     "name": "stdout",
     "output_type": "stream",
     "text": [
      "1\n",
      "4\n",
      "9\n",
      "16\n"
     ]
    }
   ],
   "source": [
    "for t in thread1:\n",
    "    t.start()\n"
   ]
  },
  {
   "cell_type": "code",
   "execution_count": 61,
   "id": "1d5db516-8a93-4009-824d-1f66d0462c46",
   "metadata": {},
   "outputs": [
    {
     "name": "stdout",
     "output_type": "stream",
     "text": [
      "1\n",
      "8\n",
      "27\n",
      "64\n"
     ]
    }
   ],
   "source": [
    "for t in thread2:\n",
    "    t.start()"
   ]
  },
  {
   "cell_type": "markdown",
   "id": "62b3cbe9-7f34-4f43-8396-9d5ad90e7d97",
   "metadata": {},
   "source": [
    "#### (5)-\n",
    "#### Advantages of multithreading-\n",
    "##### Multiple threads can be used to process and share the same data-space.\n",
    "##### Improved performance and concurrency.\n",
    "##### It will improve the speed of computation or multi-core systems because each processor will handle a separate thread concurrently.\n",
    "##### They will use less memory overhead and lightweight processes.\n",
    "##### The threads of a process have access to its global variables if a global variable changes in one thread.\n",
    "\n",
    "#### Disadvantages of multithreading- \n",
    "##### Difficulty in write the code\n",
    "##### Difficulty in debugging becasue of increased complexity\n",
    "##### Difficulty in testing\n",
    "##### Difficulty of porting existing code\n",
    "\n",
    "\n"
   ]
  },
  {
   "cell_type": "markdown",
   "id": "33f8d938-d76d-415b-8abd-6d7280f61a6a",
   "metadata": {},
   "source": [
    "#### (6)-\n",
    "##### A race condition occurs when two threads try to access a shared variable simultaneously. Both of them read the value of the shared variable and they try to change it. They race to see which thread writes the value to the shared variable last because that value from the thread is preseved as it overrides the value written by the other thread."
   ]
  },
  {
   "cell_type": "markdown",
   "id": "b274335e-399f-4fbd-9f1d-0b4c9c215963",
   "metadata": {},
   "source": [
    "##### Deadlock ia a concurrency failure mode where a thread/threads wait for a condition that never occur. The result is that deadlock threads are unable to progress and the program is stuck or frozen and must be terminated forcefully. Deadlocks occur when a thread waits on itself or threads wait on each other, or threads who fail to release resource etc."
   ]
  },
  {
   "cell_type": "code",
   "execution_count": null,
   "id": "81500304-090f-4e2e-8e18-b7dca8ca6d9f",
   "metadata": {},
   "outputs": [],
   "source": []
  }
 ],
 "metadata": {
  "kernelspec": {
   "display_name": "Python 3 (ipykernel)",
   "language": "python",
   "name": "python3"
  },
  "language_info": {
   "codemirror_mode": {
    "name": "ipython",
    "version": 3
   },
   "file_extension": ".py",
   "mimetype": "text/x-python",
   "name": "python",
   "nbconvert_exporter": "python",
   "pygments_lexer": "ipython3",
   "version": "3.10.8"
  }
 },
 "nbformat": 4,
 "nbformat_minor": 5
}
